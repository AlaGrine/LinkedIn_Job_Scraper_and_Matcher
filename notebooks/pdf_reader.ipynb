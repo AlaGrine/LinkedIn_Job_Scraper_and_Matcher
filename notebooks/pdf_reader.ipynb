{
 "cells": [
  {
   "cell_type": "markdown",
   "id": "b50c0909-8736-409d-977b-fd0257081ba6",
   "metadata": {},
   "source": [
    "# Extract text from PDF files with PyPDF2 and Pdfminer"
   ]
  },
  {
   "cell_type": "markdown",
   "id": "6343fc8e-200b-49b7-bd37-8a36290da3ee",
   "metadata": {},
   "source": [
    "## PyPDF2"
   ]
  },
  {
   "cell_type": "code",
   "execution_count": 1,
   "id": "3bffda59-6491-4dd4-92be-2962a3a3c2b7",
   "metadata": {},
   "outputs": [
    {
     "name": "stdout",
     "output_type": "stream",
     "text": [
      "SKILLS  \n",
      " \n",
      "● Advanced proficiency in SQL, Java, P ython and Apache Spark.  \n",
      "● Machine learning and Data Science: Scikit -learn and TensorFlow.  \n",
      "● Experience with data visualization and reporting tools such as Tableau  and Flask . \n",
      "● Strong analytical and problem -solving skills .\n"
     ]
    }
   ],
   "source": [
    "import PyPDF2\n",
    "\n",
    "# creating a pdf file object\n",
    "pdfFileObj = open('../resume/resume_skills_example.pdf', 'rb')\n",
    "\n",
    "# creating a pdf reader object\n",
    "pdfReader = PyPDF2.PdfReader(pdfFileObj)\n",
    "\n",
    "# extracting text from page\n",
    "extracted_text = \"\"\n",
    "for page in pdfReader.pages:\n",
    "    extracted_text += page.extract_text().strip()  \n",
    "\n",
    "print(extracted_text)\n",
    "\n",
    "# closing the pdf file object\n",
    "pdfFileObj.close()"
   ]
  },
  {
   "cell_type": "markdown",
   "id": "30bd7500-273f-49c6-8fd3-f4b7c92a756a",
   "metadata": {},
   "source": [
    "As we can see, there is a whitespace issue in the extract_text() method of `PyPDF2`. \n",
    "\n",
    "Examples: P ython, Scikit -learn.\n",
    "\n",
    "To solve this problem, we can use [pdfminer](https://pdfminersix.readthedocs.io/en/latest/tutorial/composable.html) which is more accurate in text extraction."
   ]
  },
  {
   "cell_type": "markdown",
   "id": "2a47ce46-ddfc-4ea5-b3d9-ae96264b0101",
   "metadata": {},
   "source": [
    "## Pdfminer"
   ]
  },
  {
   "cell_type": "code",
   "execution_count": 3,
   "id": "214f1e9c-6b8f-46a2-a1c8-784bf49b5927",
   "metadata": {},
   "outputs": [],
   "source": [
    "from io import StringIO\n",
    "\n",
    "from pdfminer.converter import TextConverter\n",
    "from pdfminer.layout import LAParams\n",
    "from pdfminer.pdfdocument import PDFDocument\n",
    "from pdfminer.pdfinterp import PDFResourceManager, PDFPageInterpreter\n",
    "from pdfminer.pdfpage import PDFPage\n",
    "from pdfminer.pdfparser import PDFParser\n",
    "\n",
    "def pdf_miner(file_path):\n",
    "    output_string = StringIO()\n",
    "    with open(file_path, \"rb\") as in_file:\n",
    "        parser = PDFParser(in_file)\n",
    "        doc = PDFDocument(parser)\n",
    "        rsrcmgr = PDFResourceManager()\n",
    "        device = TextConverter(rsrcmgr, output_string, laparams=LAParams())\n",
    "        interpreter = PDFPageInterpreter(rsrcmgr, device)\n",
    "        for page in PDFPage.create_pages(doc):\n",
    "            interpreter.process_page(page)\n",
    "\n",
    "    resume_txt = output_string.getvalue()  # str type\n",
    "    return resume_txt"
   ]
  },
  {
   "cell_type": "code",
   "execution_count": 5,
   "id": "343a8fdf-99e1-4057-8484-418f8466f1c2",
   "metadata": {},
   "outputs": [
    {
     "name": "stdout",
     "output_type": "stream",
     "text": [
      "SKILLS \n",
      "\n",
      "●  Advanced proficiency in SQL, Java, Python and Apache Spark. \n",
      "●  Machine learning and Data Science: Scikit-learn and TensorFlow. \n",
      "●  Experience with data visualization and reporting tools such as Tableau and Flask. \n",
      "●  Strong analytical and problem-solving skills. \n",
      "\n",
      " \n",
      "\n",
      "\f",
      "\n"
     ]
    }
   ],
   "source": [
    "output_string = StringIO()\n",
    "\n",
    "with open('../resume/resume_skills_example.pdf', 'rb') as in_file:\n",
    "    parser = PDFParser(in_file)\n",
    "    doc = PDFDocument(parser)\n",
    "    rsrcmgr = PDFResourceManager()\n",
    "    device = TextConverter(rsrcmgr, output_string, laparams=LAParams())\n",
    "    interpreter = PDFPageInterpreter(rsrcmgr, device)\n",
    "    for page in PDFPage.create_pages(doc):\n",
    "        interpreter.process_page(page)\n",
    "\n",
    "extracted_text = output_string.getvalue()\n",
    "print(extracted_text)"
   ]
  }
 ],
 "metadata": {
  "kernelspec": {
   "display_name": "Python 3 (ipykernel)",
   "language": "python",
   "name": "python3"
  },
  "language_info": {
   "codemirror_mode": {
    "name": "ipython",
    "version": 3
   },
   "file_extension": ".py",
   "mimetype": "text/x-python",
   "name": "python",
   "nbconvert_exporter": "python",
   "pygments_lexer": "ipython3",
   "version": "3.10.9"
  }
 },
 "nbformat": 4,
 "nbformat_minor": 5
}
